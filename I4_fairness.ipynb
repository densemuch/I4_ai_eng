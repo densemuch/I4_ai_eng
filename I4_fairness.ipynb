{
  "nbformat": 4,
  "nbformat_minor": 0,
  "metadata": {
    "colab": {
      "name": "I4_fairness.ipynb",
      "provenance": [],
      "collapsed_sections": [
        "55IqyqxKCnb-",
        "V_E9E-dlOV6L",
        "IunZd8R2LFd9"
      ],
      "toc_visible": true,
      "authorship_tag": "ABX9TyPe/3XG+sdBtjCZGoE22nMi",
      "include_colab_link": true
    },
    "kernelspec": {
      "name": "python3",
      "display_name": "Python 3"
    },
    "language_info": {
      "name": "python"
    }
  },
  "cells": [
    {
      "cell_type": "markdown",
      "metadata": {
        "id": "view-in-github",
        "colab_type": "text"
      },
      "source": [
        "<a href=\"https://colab.research.google.com/github/densemuch/I4_ai_eng/blob/main/I4_fairness.ipynb\" target=\"_parent\"><img src=\"https://colab.research.google.com/assets/colab-badge.svg\" alt=\"Open In Colab\"/></a>"
      ]
    },
    {
      "cell_type": "markdown",
      "source": [
        "# Load libraries"
      ],
      "metadata": {
        "id": "gv5MGgbAKn05"
      }
    },
    {
      "cell_type": "code",
      "execution_count": null,
      "metadata": {
        "id": "8j3UouKuVrwn"
      },
      "outputs": [],
      "source": [
        "# !pip install 'aif360[all]'"
      ]
    },
    {
      "cell_type": "code",
      "source": [
        "import sys\n",
        "sys.path.insert(1, \"../\")  \n",
        "\n",
        "import numpy as np\n",
        "np.random.seed(0)\n",
        "\n",
        "from aif360.datasets import GermanDataset, StandardDataset\n",
        "from aif360.metrics import BinaryLabelDatasetMetric, ClassificationMetric\n",
        "from aif360.algorithms.postprocessing import EqOddsPostprocessing, RejectOptionClassification, CalibratedEqOddsPostprocessing\n",
        "\n",
        "from sklearn.naive_bayes import GaussianNB\n",
        "from sklearn.metrics import accuracy_score, confusion_matrix, classification_report, fbeta_score\n",
        "from sklearn.metrics import roc_curve, roc_auc_score, precision_score, f1_score\n",
        "\n",
        "\n",
        "from IPython.display import Markdown, display\n",
        "import matplotlib.pyplot as plt"
      ],
      "metadata": {
        "id": "zV6hp15HV4Rw"
      },
      "execution_count": null,
      "outputs": []
    },
    {
      "cell_type": "markdown",
      "source": [
        "# Task 1"
      ],
      "metadata": {
        "id": "uNyRsMLpCr_Y"
      }
    },
    {
      "cell_type": "markdown",
      "source": [
        "Using GermanDataset class to load the data, followed by splitting the data into 70, 30 split for training and testing respectively"
      ],
      "metadata": {
        "id": "4jpskWI0eniu"
      }
    },
    {
      "cell_type": "markdown",
      "source": [
        "## Data Loading and Pre-Processing"
      ],
      "metadata": {
        "id": "JfyUSf-qmrP4"
      }
    },
    {
      "cell_type": "code",
      "source": [
        "dataset_orig = GermanDataset(\n",
        "    protected_attribute_names=[], \n",
        "    categorical_features=['status', 'credit_history', 'purpose', 'savings', 'employment', \n",
        "                          'other_debtors', 'property', 'installment_plans', 'housing', 'skill_level',\n",
        "                          'telephone', 'foreign_worker', 'sex'])\n",
        "dataset_orig_train, dataset_orig_test = dataset_orig.split([0.7], shuffle=True, seed=42)"
      ],
      "metadata": {
        "id": "P_fR2nP4WSrO"
      },
      "execution_count": null,
      "outputs": []
    },
    {
      "cell_type": "markdown",
      "source": [
        "Converting above GermanDataset class objects to pandas dataframes"
      ],
      "metadata": {
        "id": "fsC-Lb-Xe51U"
      }
    },
    {
      "cell_type": "code",
      "source": [
        "data_train = dataset_orig_train.convert_to_dataframe()[0]\n",
        "data_test = dataset_orig_test.convert_to_dataframe()[0]\n",
        "flip_value = data_train['sex=female'].to_numpy()\n",
        "data_train = data_train.drop('sex=female', 1)\n",
        "data_test = data_test.drop('sex=female', 1)"
      ],
      "metadata": {
        "colab": {
          "base_uri": "https://localhost:8080/"
        },
        "id": "kqcHPJ6WXh07",
        "outputId": "851ba66d-3a80-4cb5-b5fc-d0756bae063a"
      },
      "execution_count": null,
      "outputs": [
        {
          "output_type": "stream",
          "name": "stderr",
          "text": [
            "In a future version of pandas all arguments of DataFrame.drop except for the argument 'labels' will be keyword-only\n",
            "In a future version of pandas all arguments of DataFrame.drop except for the argument 'labels' will be keyword-only\n"
          ]
        }
      ]
    },
    {
      "cell_type": "code",
      "source": [
        "data_train.head()"
      ],
      "metadata": {
        "colab": {
          "base_uri": "https://localhost:8080/",
          "height": 299
        },
        "id": "jA9hvSutgbJ-",
        "outputId": "df154e12-4e07-4f45-b4ad-e5ccdb0ebeed"
      },
      "execution_count": null,
      "outputs": [
        {
          "output_type": "execute_result",
          "data": {
            "text/plain": [
              "     month  credit_amount  investment_as_income_percentage  residence_since  \\\n",
              "521   18.0         3190.0                              2.0              2.0   \n",
              "737   18.0         4380.0                              3.0              4.0   \n",
              "740   24.0         2325.0                              2.0              3.0   \n",
              "660   12.0         1297.0                              3.0              4.0   \n",
              "411   33.0         7253.0                              3.0              2.0   \n",
              "\n",
              "      age  number_of_credits  people_liable_for  status=A11  status=A12  \\\n",
              "521  24.0                1.0                1.0         1.0         0.0   \n",
              "737  35.0                1.0                2.0         1.0         0.0   \n",
              "740  32.0                1.0                1.0         1.0         0.0   \n",
              "660  23.0                1.0                1.0         0.0         0.0   \n",
              "411  35.0                2.0                1.0         0.0         0.0   \n",
              "\n",
              "     status=A13  ...  skill_level=A171  skill_level=A172  skill_level=A173  \\\n",
              "521         0.0  ...               0.0               0.0               1.0   \n",
              "737         0.0  ...               0.0               1.0               0.0   \n",
              "740         0.0  ...               0.0               0.0               1.0   \n",
              "660         1.0  ...               0.0               0.0               1.0   \n",
              "411         0.0  ...               0.0               0.0               0.0   \n",
              "\n",
              "     skill_level=A174  telephone=A191  telephone=A192  foreign_worker=A201  \\\n",
              "521               0.0             1.0             0.0                  1.0   \n",
              "737               0.0             0.0             1.0                  1.0   \n",
              "740               0.0             1.0             0.0                  1.0   \n",
              "660               0.0             1.0             0.0                  1.0   \n",
              "411               1.0             0.0             1.0                  1.0   \n",
              "\n",
              "     foreign_worker=A202  sex=male  credit  \n",
              "521                  0.0       0.0     2.0  \n",
              "737                  0.0       1.0     1.0  \n",
              "740                  0.0       1.0     1.0  \n",
              "660                  0.0       1.0     1.0  \n",
              "411                  0.0       1.0     1.0  \n",
              "\n",
              "[5 rows x 59 columns]"
            ],
            "text/html": [
              "\n",
              "  <div id=\"df-75bb1dc8-71d1-4bd3-ad13-eb0c92115096\">\n",
              "    <div class=\"colab-df-container\">\n",
              "      <div>\n",
              "<style scoped>\n",
              "    .dataframe tbody tr th:only-of-type {\n",
              "        vertical-align: middle;\n",
              "    }\n",
              "\n",
              "    .dataframe tbody tr th {\n",
              "        vertical-align: top;\n",
              "    }\n",
              "\n",
              "    .dataframe thead th {\n",
              "        text-align: right;\n",
              "    }\n",
              "</style>\n",
              "<table border=\"1\" class=\"dataframe\">\n",
              "  <thead>\n",
              "    <tr style=\"text-align: right;\">\n",
              "      <th></th>\n",
              "      <th>month</th>\n",
              "      <th>credit_amount</th>\n",
              "      <th>investment_as_income_percentage</th>\n",
              "      <th>residence_since</th>\n",
              "      <th>age</th>\n",
              "      <th>number_of_credits</th>\n",
              "      <th>people_liable_for</th>\n",
              "      <th>status=A11</th>\n",
              "      <th>status=A12</th>\n",
              "      <th>status=A13</th>\n",
              "      <th>...</th>\n",
              "      <th>skill_level=A171</th>\n",
              "      <th>skill_level=A172</th>\n",
              "      <th>skill_level=A173</th>\n",
              "      <th>skill_level=A174</th>\n",
              "      <th>telephone=A191</th>\n",
              "      <th>telephone=A192</th>\n",
              "      <th>foreign_worker=A201</th>\n",
              "      <th>foreign_worker=A202</th>\n",
              "      <th>sex=male</th>\n",
              "      <th>credit</th>\n",
              "    </tr>\n",
              "  </thead>\n",
              "  <tbody>\n",
              "    <tr>\n",
              "      <th>521</th>\n",
              "      <td>18.0</td>\n",
              "      <td>3190.0</td>\n",
              "      <td>2.0</td>\n",
              "      <td>2.0</td>\n",
              "      <td>24.0</td>\n",
              "      <td>1.0</td>\n",
              "      <td>1.0</td>\n",
              "      <td>1.0</td>\n",
              "      <td>0.0</td>\n",
              "      <td>0.0</td>\n",
              "      <td>...</td>\n",
              "      <td>0.0</td>\n",
              "      <td>0.0</td>\n",
              "      <td>1.0</td>\n",
              "      <td>0.0</td>\n",
              "      <td>1.0</td>\n",
              "      <td>0.0</td>\n",
              "      <td>1.0</td>\n",
              "      <td>0.0</td>\n",
              "      <td>0.0</td>\n",
              "      <td>2.0</td>\n",
              "    </tr>\n",
              "    <tr>\n",
              "      <th>737</th>\n",
              "      <td>18.0</td>\n",
              "      <td>4380.0</td>\n",
              "      <td>3.0</td>\n",
              "      <td>4.0</td>\n",
              "      <td>35.0</td>\n",
              "      <td>1.0</td>\n",
              "      <td>2.0</td>\n",
              "      <td>1.0</td>\n",
              "      <td>0.0</td>\n",
              "      <td>0.0</td>\n",
              "      <td>...</td>\n",
              "      <td>0.0</td>\n",
              "      <td>1.0</td>\n",
              "      <td>0.0</td>\n",
              "      <td>0.0</td>\n",
              "      <td>0.0</td>\n",
              "      <td>1.0</td>\n",
              "      <td>1.0</td>\n",
              "      <td>0.0</td>\n",
              "      <td>1.0</td>\n",
              "      <td>1.0</td>\n",
              "    </tr>\n",
              "    <tr>\n",
              "      <th>740</th>\n",
              "      <td>24.0</td>\n",
              "      <td>2325.0</td>\n",
              "      <td>2.0</td>\n",
              "      <td>3.0</td>\n",
              "      <td>32.0</td>\n",
              "      <td>1.0</td>\n",
              "      <td>1.0</td>\n",
              "      <td>1.0</td>\n",
              "      <td>0.0</td>\n",
              "      <td>0.0</td>\n",
              "      <td>...</td>\n",
              "      <td>0.0</td>\n",
              "      <td>0.0</td>\n",
              "      <td>1.0</td>\n",
              "      <td>0.0</td>\n",
              "      <td>1.0</td>\n",
              "      <td>0.0</td>\n",
              "      <td>1.0</td>\n",
              "      <td>0.0</td>\n",
              "      <td>1.0</td>\n",
              "      <td>1.0</td>\n",
              "    </tr>\n",
              "    <tr>\n",
              "      <th>660</th>\n",
              "      <td>12.0</td>\n",
              "      <td>1297.0</td>\n",
              "      <td>3.0</td>\n",
              "      <td>4.0</td>\n",
              "      <td>23.0</td>\n",
              "      <td>1.0</td>\n",
              "      <td>1.0</td>\n",
              "      <td>0.0</td>\n",
              "      <td>0.0</td>\n",
              "      <td>1.0</td>\n",
              "      <td>...</td>\n",
              "      <td>0.0</td>\n",
              "      <td>0.0</td>\n",
              "      <td>1.0</td>\n",
              "      <td>0.0</td>\n",
              "      <td>1.0</td>\n",
              "      <td>0.0</td>\n",
              "      <td>1.0</td>\n",
              "      <td>0.0</td>\n",
              "      <td>1.0</td>\n",
              "      <td>1.0</td>\n",
              "    </tr>\n",
              "    <tr>\n",
              "      <th>411</th>\n",
              "      <td>33.0</td>\n",
              "      <td>7253.0</td>\n",
              "      <td>3.0</td>\n",
              "      <td>2.0</td>\n",
              "      <td>35.0</td>\n",
              "      <td>2.0</td>\n",
              "      <td>1.0</td>\n",
              "      <td>0.0</td>\n",
              "      <td>0.0</td>\n",
              "      <td>0.0</td>\n",
              "      <td>...</td>\n",
              "      <td>0.0</td>\n",
              "      <td>0.0</td>\n",
              "      <td>0.0</td>\n",
              "      <td>1.0</td>\n",
              "      <td>0.0</td>\n",
              "      <td>1.0</td>\n",
              "      <td>1.0</td>\n",
              "      <td>0.0</td>\n",
              "      <td>1.0</td>\n",
              "      <td>1.0</td>\n",
              "    </tr>\n",
              "  </tbody>\n",
              "</table>\n",
              "<p>5 rows × 59 columns</p>\n",
              "</div>\n",
              "      <button class=\"colab-df-convert\" onclick=\"convertToInteractive('df-75bb1dc8-71d1-4bd3-ad13-eb0c92115096')\"\n",
              "              title=\"Convert this dataframe to an interactive table.\"\n",
              "              style=\"display:none;\">\n",
              "        \n",
              "  <svg xmlns=\"http://www.w3.org/2000/svg\" height=\"24px\"viewBox=\"0 0 24 24\"\n",
              "       width=\"24px\">\n",
              "    <path d=\"M0 0h24v24H0V0z\" fill=\"none\"/>\n",
              "    <path d=\"M18.56 5.44l.94 2.06.94-2.06 2.06-.94-2.06-.94-.94-2.06-.94 2.06-2.06.94zm-11 1L8.5 8.5l.94-2.06 2.06-.94-2.06-.94L8.5 2.5l-.94 2.06-2.06.94zm10 10l.94 2.06.94-2.06 2.06-.94-2.06-.94-.94-2.06-.94 2.06-2.06.94z\"/><path d=\"M17.41 7.96l-1.37-1.37c-.4-.4-.92-.59-1.43-.59-.52 0-1.04.2-1.43.59L10.3 9.45l-7.72 7.72c-.78.78-.78 2.05 0 2.83L4 21.41c.39.39.9.59 1.41.59.51 0 1.02-.2 1.41-.59l7.78-7.78 2.81-2.81c.8-.78.8-2.07 0-2.86zM5.41 20L4 18.59l7.72-7.72 1.47 1.35L5.41 20z\"/>\n",
              "  </svg>\n",
              "      </button>\n",
              "      \n",
              "  <style>\n",
              "    .colab-df-container {\n",
              "      display:flex;\n",
              "      flex-wrap:wrap;\n",
              "      gap: 12px;\n",
              "    }\n",
              "\n",
              "    .colab-df-convert {\n",
              "      background-color: #E8F0FE;\n",
              "      border: none;\n",
              "      border-radius: 50%;\n",
              "      cursor: pointer;\n",
              "      display: none;\n",
              "      fill: #1967D2;\n",
              "      height: 32px;\n",
              "      padding: 0 0 0 0;\n",
              "      width: 32px;\n",
              "    }\n",
              "\n",
              "    .colab-df-convert:hover {\n",
              "      background-color: #E2EBFA;\n",
              "      box-shadow: 0px 1px 2px rgba(60, 64, 67, 0.3), 0px 1px 3px 1px rgba(60, 64, 67, 0.15);\n",
              "      fill: #174EA6;\n",
              "    }\n",
              "\n",
              "    [theme=dark] .colab-df-convert {\n",
              "      background-color: #3B4455;\n",
              "      fill: #D2E3FC;\n",
              "    }\n",
              "\n",
              "    [theme=dark] .colab-df-convert:hover {\n",
              "      background-color: #434B5C;\n",
              "      box-shadow: 0px 1px 3px 1px rgba(0, 0, 0, 0.15);\n",
              "      filter: drop-shadow(0px 1px 2px rgba(0, 0, 0, 0.3));\n",
              "      fill: #FFFFFF;\n",
              "    }\n",
              "  </style>\n",
              "\n",
              "      <script>\n",
              "        const buttonEl =\n",
              "          document.querySelector('#df-75bb1dc8-71d1-4bd3-ad13-eb0c92115096 button.colab-df-convert');\n",
              "        buttonEl.style.display =\n",
              "          google.colab.kernel.accessAllowed ? 'block' : 'none';\n",
              "\n",
              "        async function convertToInteractive(key) {\n",
              "          const element = document.querySelector('#df-75bb1dc8-71d1-4bd3-ad13-eb0c92115096');\n",
              "          const dataTable =\n",
              "            await google.colab.kernel.invokeFunction('convertToInteractive',\n",
              "                                                     [key], {});\n",
              "          if (!dataTable) return;\n",
              "\n",
              "          const docLinkHtml = 'Like what you see? Visit the ' +\n",
              "            '<a target=\"_blank\" href=https://colab.research.google.com/notebooks/data_table.ipynb>data table notebook</a>'\n",
              "            + ' to learn more about interactive tables.';\n",
              "          element.innerHTML = '';\n",
              "          dataTable['output_type'] = 'display_data';\n",
              "          await google.colab.output.renderOutput(dataTable, element);\n",
              "          const docLink = document.createElement('div');\n",
              "          docLink.innerHTML = docLinkHtml;\n",
              "          element.appendChild(docLink);\n",
              "        }\n",
              "      </script>\n",
              "    </div>\n",
              "  </div>\n",
              "  "
            ]
          },
          "metadata": {},
          "execution_count": 887
        }
      ]
    },
    {
      "cell_type": "markdown",
      "source": [
        "From above we can see that id credit=2.0 it means that the customer is **bad** and if credit =1.0 the customer is **good**. \n",
        "\n",
        "**It is worse to classify a customer as good when they are bad, than it is to classify a customer as bad when they are good**"
      ],
      "metadata": {
        "id": "EpF35LmVg_kJ"
      }
    },
    {
      "cell_type": "markdown",
      "source": [
        "Splitting above train and test datasets into features and labels"
      ],
      "metadata": {
        "id": "1Hb43PFNfB8U"
      }
    },
    {
      "cell_type": "code",
      "source": [
        "X_train = data_train.drop('credit', 1).values\n",
        "y_train = data_train['credit'].values"
      ],
      "metadata": {
        "colab": {
          "base_uri": "https://localhost:8080/"
        },
        "id": "wkGwkitWX-AV",
        "outputId": "9330d771-b7d3-4245-ec41-597c91b7b881"
      },
      "execution_count": null,
      "outputs": [
        {
          "output_type": "stream",
          "name": "stderr",
          "text": [
            "In a future version of pandas all arguments of DataFrame.drop except for the argument 'labels' will be keyword-only\n"
          ]
        }
      ]
    },
    {
      "cell_type": "code",
      "source": [
        "X_test = data_test.drop('credit', 1).values\n",
        "y_test = data_test['credit'].values"
      ],
      "metadata": {
        "colab": {
          "base_uri": "https://localhost:8080/"
        },
        "id": "gpvZPanAcaTo",
        "outputId": "30511094-2d98-44ec-a6df-eba6b6a52ad6"
      },
      "execution_count": null,
      "outputs": [
        {
          "output_type": "stream",
          "name": "stderr",
          "text": [
            "In a future version of pandas all arguments of DataFrame.drop except for the argument 'labels' will be keyword-only\n"
          ]
        }
      ]
    },
    {
      "cell_type": "code",
      "source": [
        "print('train data', X_train.shape)\n",
        "print('train label', y_train.shape)\n",
        "print('test data', X_test.shape)\n",
        "print('test label', y_test.shape)"
      ],
      "metadata": {
        "colab": {
          "base_uri": "https://localhost:8080/"
        },
        "id": "X2-I1sx_X_ES",
        "outputId": "541d1235-ae1c-4d22-df14-130d7a2aabdc"
      },
      "execution_count": null,
      "outputs": [
        {
          "output_type": "stream",
          "name": "stdout",
          "text": [
            "train data (700, 58)\n",
            "train label (700,)\n",
            "test data (300, 58)\n",
            "test label (300,)\n"
          ]
        }
      ]
    },
    {
      "cell_type": "markdown",
      "source": [
        "## Build Model "
      ],
      "metadata": {
        "id": "_SqAm4kOmkMl"
      }
    },
    {
      "cell_type": "markdown",
      "source": [
        "We will be using Gaussian Naive Bayes classifier for modeling the credit."
      ],
      "metadata": {
        "id": "g4dK2H51fPUm"
      }
    },
    {
      "cell_type": "code",
      "source": [
        "GNB = GaussianNB()\n",
        "\n",
        "# Fitting with train data\n",
        "model = GNB.fit(X_train, y_train)"
      ],
      "metadata": {
        "id": "RFliuuQzcWIj"
      },
      "execution_count": null,
      "outputs": []
    },
    {
      "cell_type": "markdown",
      "source": [
        "We now calculate the mean accuracy of the model"
      ],
      "metadata": {
        "id": "a-Np2wa4fcp9"
      }
    },
    {
      "cell_type": "markdown",
      "source": [
        "## Evaluate Model"
      ],
      "metadata": {
        "id": "nXrfXfAPmyuC"
      }
    },
    {
      "cell_type": "code",
      "source": [
        "print(model.score(X_train, y_train))"
      ],
      "metadata": {
        "colab": {
          "base_uri": "https://localhost:8080/"
        },
        "id": "t89SrxDqc5lJ",
        "outputId": "7d3730c5-368e-4a1a-8d1a-2b496c542abe"
      },
      "execution_count": null,
      "outputs": [
        {
          "output_type": "stream",
          "name": "stdout",
          "text": [
            "0.7414285714285714\n"
          ]
        }
      ]
    },
    {
      "cell_type": "markdown",
      "source": [
        "Using sklearn metrics we get the accuracy, confusion matrix and also the classification report for the test data"
      ],
      "metadata": {
        "id": "NS3HoQE5fgEu"
      }
    },
    {
      "cell_type": "code",
      "source": [
        "y_pred = model.predict(X_test)\n",
        "\n",
        "print('accuracy', accuracy_score(y_test,y_pred))\n",
        "print(\"\\n\")\n",
        "print('confusion_matrix', confusion_matrix(y_test, y_pred))\n",
        "print(\"\\n\")\n",
        "print(classification_report(y_test, y_pred))\n",
        "print(\"\\n\")\n"
      ],
      "metadata": {
        "colab": {
          "base_uri": "https://localhost:8080/"
        },
        "id": "pnNk1ohKc7UB",
        "outputId": "ee6c5384-39ca-4cc8-b300-5c83de3655e6"
      },
      "execution_count": null,
      "outputs": [
        {
          "output_type": "stream",
          "name": "stdout",
          "text": [
            "accuracy 0.77\n",
            "\n",
            "\n",
            "confusion_matrix [[165  43]\n",
            " [ 26  66]]\n",
            "\n",
            "\n",
            "              precision    recall  f1-score   support\n",
            "\n",
            "         1.0       0.86      0.79      0.83       208\n",
            "         2.0       0.61      0.72      0.66        92\n",
            "\n",
            "    accuracy                           0.77       300\n",
            "   macro avg       0.73      0.76      0.74       300\n",
            "weighted avg       0.78      0.77      0.77       300\n",
            "\n",
            "\n",
            "\n"
          ]
        }
      ]
    },
    {
      "cell_type": "markdown",
      "source": [
        "From above we can see that the precision is more for when credit is good (1.0). This aligns with our objective that it is worse to classify a customer as good when they are bad "
      ],
      "metadata": {
        "id": "Qn7udG_4fpsn"
      }
    },
    {
      "cell_type": "markdown",
      "source": [
        "Get predictions on train data too"
      ],
      "metadata": {
        "id": "-TcmwZXNjiyM"
      }
    },
    {
      "cell_type": "code",
      "source": [
        "y_train_pred = model.predict(X_train)\n"
      ],
      "metadata": {
        "id": "2aCN3efIjdfo"
      },
      "execution_count": null,
      "outputs": []
    },
    {
      "cell_type": "markdown",
      "source": [
        "### ROC curve and AUC"
      ],
      "metadata": {
        "id": "0tJ9SGNzdfj8"
      }
    },
    {
      "cell_type": "code",
      "source": [
        "#Predicting proba\n",
        "y_pred_prob = model.predict_proba(X_test)[:,1]\n",
        "\n",
        "# Generate ROC curve values: fpr, tpr, thresholds\n",
        "fpr, tpr, thresholds = roc_curve(y_test, y_pred_prob, pos_label=2)\n",
        "roc_auc = roc_auc_score(y_test, y_pred_prob)\n",
        "\n",
        "print('roc_auc score', roc_auc)\n",
        "# Plot ROC curve\n",
        "plt.plot([0, 1], [0, 1], 'k--')\n",
        "plt.plot(fpr, tpr)\n",
        "plt.xlabel('False Positive Rate')\n",
        "plt.ylabel('True Positive Rate')\n",
        "plt.title('ROC Curve')\n",
        "plt.show()"
      ],
      "metadata": {
        "colab": {
          "base_uri": "https://localhost:8080/",
          "height": 313
        },
        "id": "d7002zE7dOEM",
        "outputId": "877ffa3b-faa3-450d-c6c4-5d54d72569ef"
      },
      "execution_count": null,
      "outputs": [
        {
          "output_type": "stream",
          "name": "stdout",
          "text": [
            "roc_auc score 0.8031981605351171\n"
          ]
        },
        {
          "output_type": "display_data",
          "data": {
            "text/plain": [
              "<Figure size 432x288 with 1 Axes>"
            ],
            "image/png": "[encoded data removed]"
          },
          "metadata": {
            "needs_background": "light"
          }
        }
      ]
    },
    {
      "cell_type": "markdown",
      "source": [
        "# Task 2"
      ],
      "metadata": {
        "id": "l9DhcgOmCkZM"
      }
    },
    {
      "cell_type": "markdown",
      "source": [
        "Create dataframe to store test data and model predictions"
      ],
      "metadata": {
        "id": "xthIJ_3BKZ24"
      }
    },
    {
      "cell_type": "code",
      "source": [
        "data_test_pred = data_test.copy()\n",
        "data_test_pred['credit'] = y_pred"
      ],
      "metadata": {
        "id": "-a8slCxuDYKw"
      },
      "execution_count": null,
      "outputs": []
    },
    {
      "cell_type": "code",
      "source": [
        "data_train_pred = data_train.copy()\n",
        "data_train_pred['credit'] = y_train_pred"
      ],
      "metadata": {
        "id": "k7UBmPSLjpvN"
      },
      "execution_count": null,
      "outputs": []
    },
    {
      "cell_type": "markdown",
      "source": [
        "### Measuring of Fairness with Age as Protected Attribute"
      ],
      "metadata": {
        "id": "55IqyqxKCnb-"
      }
    },
    {
      "cell_type": "markdown",
      "source": [
        "Create StandardDataset class object for test data with ground truth as well as model predictions"
      ],
      "metadata": {
        "id": "aQqoRu85DBj3"
      }
    },
    {
      "cell_type": "code",
      "source": [
        "standard_dataset_test = StandardDataset(data_test, protected_attribute_names=['age'],\n",
        "                                        label_name='credit', favorable_classes=[1], privileged_classes=[lambda x: x >= 25])"
      ],
      "metadata": {
        "id": "JoKVJ6_r2TdF"
      },
      "execution_count": null,
      "outputs": []
    },
    {
      "cell_type": "code",
      "source": [
        "standard_dataset_test_pred = StandardDataset(data_test_pred, protected_attribute_names=['age'],\n",
        "                                        label_name='credit', favorable_classes=[1], privileged_classes=[lambda x: x >= 25])"
      ],
      "metadata": {
        "id": "8EweDR5bzvm_"
      },
      "execution_count": null,
      "outputs": []
    },
    {
      "cell_type": "markdown",
      "source": [
        "Set privileged groups for age"
      ],
      "metadata": {
        "id": "4WKnqvKLDLJ8"
      }
    },
    {
      "cell_type": "code",
      "source": [
        "privileged_groups = [{'age': 1}]\n",
        "unprivileged_groups = [{'age': 0}]"
      ],
      "metadata": {
        "id": "Z2-mySMD05BL"
      },
      "execution_count": null,
      "outputs": []
    },
    {
      "cell_type": "code",
      "source": [
        "metric_classified_test = ClassificationMetric(standard_dataset_test, standard_dataset_test_pred, \n",
        "                                             unprivileged_groups=unprivileged_groups,\n",
        "                                             privileged_groups=privileged_groups)"
      ],
      "metadata": {
        "id": "4LkRXBls0_TM"
      },
      "execution_count": null,
      "outputs": []
    },
    {
      "cell_type": "markdown",
      "source": [
        "#### Fairness Metric"
      ],
      "metadata": {
        "id": "V_E9E-dlOV6L"
      }
    },
    {
      "cell_type": "code",
      "source": [
        "print(\"Difference in mean outcomes between unprivileged and privileged groups = %f\" % metric_classified_test.mean_difference())\n"
      ],
      "metadata": {
        "colab": {
          "base_uri": "https://localhost:8080/"
        },
        "id": "JlVYaD7wOb9s",
        "outputId": "f6d80943-523c-4dbc-f886-b836e5425ae6"
      },
      "execution_count": null,
      "outputs": [
        {
          "output_type": "stream",
          "name": "stdout",
          "text": [
            "Difference in mean outcomes between unprivileged and privileged groups = -0.038690\n"
          ]
        }
      ]
    },
    {
      "cell_type": "markdown",
      "source": [
        "**The negative value here indicates less favorable outcomes for the unprivileged groups**"
      ],
      "metadata": {
        "id": "dnQ2yr7UPKFD"
      }
    },
    {
      "cell_type": "markdown",
      "source": [
        "#### Calculate individual fairness"
      ],
      "metadata": {
        "id": "jQNFfd9nENtX"
      }
    },
    {
      "cell_type": "code",
      "source": [
        "print('consistency', metric_classified_test.consistency()[0])"
      ],
      "metadata": {
        "colab": {
          "base_uri": "https://localhost:8080/"
        },
        "id": "xsjvOeU_Df2c",
        "outputId": "23dd8539-d919-43f7-91f5-9a2d30202ae0"
      },
      "execution_count": null,
      "outputs": [
        {
          "output_type": "stream",
          "name": "stdout",
          "text": [
            "consistency 0.6686666666666663\n"
          ]
        }
      ]
    },
    {
      "cell_type": "markdown",
      "source": [
        "#### Calculate group fairness by measuring disparate impact ratio\n"
      ],
      "metadata": {
        "id": "f7Y7DBSYFRI4"
      }
    },
    {
      "cell_type": "markdown",
      "source": [
        "The calculation is the proportion of the unprivileged group that received the positive outcome divided by the proportion of the privileged group that received the positive outcome."
      ],
      "metadata": {
        "id": "DInbzWseF2pR"
      }
    },
    {
      "cell_type": "code",
      "source": [
        "\n",
        "print('disparate impact', metric_classified_test.disparate_impact())"
      ],
      "metadata": {
        "colab": {
          "base_uri": "https://localhost:8080/"
        },
        "id": "C2LuYPgWFQCs",
        "outputId": "aa306938-10e6-414b-9bbc-fe931ae4ca27"
      },
      "execution_count": null,
      "outputs": [
        {
          "output_type": "stream",
          "name": "stdout",
          "text": [
            "disparate impact 0.9398148148148147\n"
          ]
        }
      ]
    },
    {
      "cell_type": "markdown",
      "source": [
        "#### Calculate Separation"
      ],
      "metadata": {
        "id": "TukPjg6gJiYB"
      }
    },
    {
      "cell_type": "markdown",
      "source": [
        "Binary Confusion Matrix for unprivileged class i.e, age under 25"
      ],
      "metadata": {
        "id": "vb6rzCkwEWJ_"
      }
    },
    {
      "cell_type": "code",
      "source": [
        "unprivileged_dict = metric_classified_test.binary_confusion_matrix(privileged=False)"
      ],
      "metadata": {
        "id": "gEAmsCbf3vtq"
      },
      "execution_count": null,
      "outputs": []
    },
    {
      "cell_type": "markdown",
      "source": [
        "Binary Confusion Matrix for privileged class i.e, age over 25"
      ],
      "metadata": {
        "id": "1H3OQsI5E-Pb"
      }
    },
    {
      "cell_type": "code",
      "source": [
        "privileged_dict = metric_classified_test.binary_confusion_matrix(privileged=True)"
      ],
      "metadata": {
        "id": "UQ3nyvaw2H_u"
      },
      "execution_count": null,
      "outputs": []
    },
    {
      "cell_type": "code",
      "source": [
        "fp_rate_priv = privileged_dict[\"FP\"]/(privileged_dict[\"FP\"]+privileged_dict[\"TN\"])\n",
        "fp_rate_unpriv = unprivileged_dict[\"FP\"]/(unprivileged_dict[\"FP\"]+unprivileged_dict[\"TN\"])"
      ],
      "metadata": {
        "id": "mIaq8VLL21_I"
      },
      "execution_count": null,
      "outputs": []
    },
    {
      "cell_type": "code",
      "source": [
        "print(\"FP Rate for Priviliged Age class\", fp_rate_priv)\n",
        "print(\"FP Rate for Unpriviliged Age class\", fp_rate_unpriv)"
      ],
      "metadata": {
        "colab": {
          "base_uri": "https://localhost:8080/"
        },
        "id": "K465OwQGItwu",
        "outputId": "5394bf37-b7fc-4d10-f24e-26915a555c71"
      },
      "execution_count": null,
      "outputs": [
        {
          "output_type": "stream",
          "name": "stdout",
          "text": [
            "FP Rate for Priviliged Age class 0.25\n",
            "FP Rate for Unpriviliged Age class 0.4\n"
          ]
        }
      ]
    },
    {
      "cell_type": "code",
      "source": [
        "fn_rate_priv = privileged_dict[\"FN\"]/(privileged_dict[\"FP\"]+privileged_dict[\"TN\"])\n",
        "fn_rate_unpriv = unprivileged_dict[\"FN\"]/(unprivileged_dict[\"FP\"]+unprivileged_dict[\"TN\"])"
      ],
      "metadata": {
        "id": "ljOHBKJ4I3XQ"
      },
      "execution_count": null,
      "outputs": []
    },
    {
      "cell_type": "code",
      "source": [
        "print(\"FN Rate for Priviliged Age class\", fn_rate_priv)\n",
        "print(\"FN Rate for Unpriviliged Age class\", fn_rate_unpriv)"
      ],
      "metadata": {
        "colab": {
          "base_uri": "https://localhost:8080/"
        },
        "id": "tWlTnm0oJVlX",
        "outputId": "7f7ff14d-9fe8-43d6-960d-f8538e9c29f5"
      },
      "execution_count": null,
      "outputs": [
        {
          "output_type": "stream",
          "name": "stdout",
          "text": [
            "FN Rate for Priviliged Age class 0.5\n",
            "FN Rate for Unpriviliged Age class 0.35\n"
          ]
        }
      ]
    },
    {
      "cell_type": "code",
      "source": [
        "print('accuracy', metric_classified_test.accuracy())\n"
      ],
      "metadata": {
        "colab": {
          "base_uri": "https://localhost:8080/"
        },
        "id": "ic6U8YgA60rG",
        "outputId": "b93fbb2b-3565-4546-bc56-bc96ee0caf6c"
      },
      "execution_count": null,
      "outputs": [
        {
          "output_type": "stream",
          "name": "stdout",
          "text": [
            "accuracy 0.77\n"
          ]
        }
      ]
    },
    {
      "cell_type": "markdown",
      "source": [
        "**We observe that the False Negative Rate is more in Unprivileged (lower Age) class where as False Positive Rate is more in Privileged class**\n",
        "\n",
        "\n"
      ],
      "metadata": {
        "id": "tvIzd9bkJzPi"
      }
    },
    {
      "cell_type": "markdown",
      "source": [
        "### Measuring of Fairness with Sex as Protected Attribute"
      ],
      "metadata": {
        "id": "HHT52lHtLFd8"
      }
    },
    {
      "cell_type": "markdown",
      "source": [
        "Create StandardDataset class object for test data with ground truth as well as model predictions"
      ],
      "metadata": {
        "id": "SRuAuzS5LFd8"
      }
    },
    {
      "cell_type": "code",
      "source": [
        "standard_dataset_test_sex = StandardDataset(data_test, protected_attribute_names=['sex=male'],\n",
        "                                        label_name='credit', favorable_classes=[1], privileged_classes=[[1.0]])"
      ],
      "metadata": {
        "id": "rjIHuAZsLFd8"
      },
      "execution_count": null,
      "outputs": []
    },
    {
      "cell_type": "code",
      "source": [
        "standard_dataset_test_pred_sex = StandardDataset(data_test_pred, protected_attribute_names=['sex=male'],\n",
        "                                        label_name='credit', favorable_classes=[1], privileged_classes=[[1.0]])"
      ],
      "metadata": {
        "id": "DFWOmYJfLFd8"
      },
      "execution_count": null,
      "outputs": []
    },
    {
      "cell_type": "markdown",
      "source": [
        "Set privileged groups for sex"
      ],
      "metadata": {
        "id": "VjBpx9GfLFd8"
      }
    },
    {
      "cell_type": "code",
      "source": [
        "privileged_groups = [{'sex=male': 1}]\n",
        "unprivileged_groups = [{'sex=male': 0}]"
      ],
      "metadata": {
        "id": "Ifv9G__oLFd8"
      },
      "execution_count": null,
      "outputs": []
    },
    {
      "cell_type": "code",
      "source": [
        "metric_classified_test = ClassificationMetric(standard_dataset_test_sex, standard_dataset_test_pred_sex, \n",
        "                                             unprivileged_groups=unprivileged_groups,\n",
        "                                             privileged_groups=privileged_groups)"
      ],
      "metadata": {
        "id": "3W2C1TX-LFd9"
      },
      "execution_count": null,
      "outputs": []
    },
    {
      "cell_type": "markdown",
      "source": [
        "#### Fairness metric"
      ],
      "metadata": {
        "id": "WG3EX2GCOlZ2"
      }
    },
    {
      "cell_type": "code",
      "source": [
        "print(\"Difference in mean outcomes between unprivileged and privileged groups = %f\" % metric_classified_test.mean_difference())"
      ],
      "metadata": {
        "colab": {
          "base_uri": "https://localhost:8080/"
        },
        "id": "isuDIswJOno1",
        "outputId": "477d3433-8a6f-4368-85aa-2727d2fa594e"
      },
      "execution_count": null,
      "outputs": [
        {
          "output_type": "stream",
          "name": "stdout",
          "text": [
            "Difference in mean outcomes between unprivileged and privileged groups = -0.076727\n"
          ]
        }
      ]
    },
    {
      "cell_type": "markdown",
      "source": [
        "**The negative value here indicates less favorable outcomes for the unprivileged groups**\n",
        "\n",
        "\n",
        "\n"
      ],
      "metadata": {
        "id": "U7-5A3gtO3q0"
      }
    },
    {
      "cell_type": "markdown",
      "source": [
        "#### Calculate individual fairness using consistency"
      ],
      "metadata": {
        "id": "pISgAPuKLFd9"
      }
    },
    {
      "cell_type": "code",
      "source": [
        "print('consistency', metric_classified_test.consistency()[0])"
      ],
      "metadata": {
        "colab": {
          "base_uri": "https://localhost:8080/"
        },
        "outputId": "42a8a0be-b87c-4074-a4bb-fe7a59766d1f",
        "id": "kpJ_n0EDLFd9"
      },
      "execution_count": null,
      "outputs": [
        {
          "output_type": "stream",
          "name": "stdout",
          "text": [
            "consistency 0.6719999999999995\n"
          ]
        }
      ]
    },
    {
      "cell_type": "code",
      "source": [
        "print('precision', metric_classified_test.precision())\n",
        "print('recall', metric_classified_test.recall())"
      ],
      "metadata": {
        "colab": {
          "base_uri": "https://localhost:8080/"
        },
        "id": "-386pwqXyQUH",
        "outputId": "ea47da50-857f-47bf-97be-8c220637c19c"
      },
      "execution_count": null,
      "outputs": [
        {
          "output_type": "stream",
          "name": "stdout",
          "text": [
            "precision 0.8638743455497382\n",
            "recall 0.7932692307692307\n"
          ]
        }
      ]
    },
    {
      "cell_type": "markdown",
      "source": [
        "#### Calculate group fairness by measuring disparate impact ratio\n"
      ],
      "metadata": {
        "id": "5HknTPkMLFd9"
      }
    },
    {
      "cell_type": "markdown",
      "source": [
        "The calculation is the proportion of the unprivileged group that received the positive outcome divided by the proportion of the privileged group that received the positive outcome."
      ],
      "metadata": {
        "id": "vnMvyE8rLFd9"
      }
    },
    {
      "cell_type": "code",
      "source": [
        "print('disparate impact', metric_classified_test.disparate_impact())"
      ],
      "metadata": {
        "colab": {
          "base_uri": "https://localhost:8080/"
        },
        "outputId": "e4d32a50-6cc9-47f6-e76b-e1a509e4195a",
        "id": "yXoCNeD2LFd9"
      },
      "execution_count": null,
      "outputs": [
        {
          "output_type": "stream",
          "name": "stdout",
          "text": [
            "disparate impact 0.884319526627219\n"
          ]
        }
      ]
    },
    {
      "cell_type": "markdown",
      "source": [
        "#### Calculate Separation"
      ],
      "metadata": {
        "id": "IunZd8R2LFd9"
      }
    },
    {
      "cell_type": "markdown",
      "source": [
        "Binary Confusion Matrix for unprivileged class i.e, female"
      ],
      "metadata": {
        "id": "HGGpCwXgLFd9"
      }
    },
    {
      "cell_type": "code",
      "source": [
        "unprivileged_dict = metric_classified_test.binary_confusion_matrix(privileged=False)"
      ],
      "metadata": {
        "id": "0QAWUsAiLFd9"
      },
      "execution_count": null,
      "outputs": []
    },
    {
      "cell_type": "markdown",
      "source": [
        "Binary Confusion Matrix for privileged class i.e, male"
      ],
      "metadata": {
        "id": "GHpFtpjNLFd9"
      }
    },
    {
      "cell_type": "code",
      "source": [
        "privileged_dict = metric_classified_test.binary_confusion_matrix(privileged=True)"
      ],
      "metadata": {
        "id": "phXvnHGMLFd9"
      },
      "execution_count": null,
      "outputs": []
    },
    {
      "cell_type": "code",
      "source": [
        "fp_rate_priv = privileged_dict[\"FP\"]/(privileged_dict[\"FP\"]+privileged_dict[\"TN\"])\n",
        "fp_rate_unpriv = unprivileged_dict[\"FP\"]/(unprivileged_dict[\"FP\"]+unprivileged_dict[\"TN\"])"
      ],
      "metadata": {
        "id": "YDMjTKfXLFd-"
      },
      "execution_count": null,
      "outputs": []
    },
    {
      "cell_type": "code",
      "source": [
        "print(\"FP Rate for Priviliged sex class\", fp_rate_priv)\n",
        "print(\"FP Rate for Unpriviliged sex class\", fp_rate_unpriv)"
      ],
      "metadata": {
        "colab": {
          "base_uri": "https://localhost:8080/"
        },
        "outputId": "f785cc61-cc77-49a2-a6dd-a29c20243406",
        "id": "mg2iPhy3LFd-"
      },
      "execution_count": null,
      "outputs": [
        {
          "output_type": "stream",
          "name": "stdout",
          "text": [
            "FP Rate for Priviliged sex class 0.2982456140350877\n",
            "FP Rate for Unpriviliged sex class 0.2571428571428571\n"
          ]
        }
      ]
    },
    {
      "cell_type": "code",
      "source": [
        "fn_rate_priv = privileged_dict[\"FN\"]/(privileged_dict[\"FP\"]+privileged_dict[\"TN\"])\n",
        "fn_rate_unpriv = unprivileged_dict[\"FN\"]/(unprivileged_dict[\"FP\"]+unprivileged_dict[\"TN\"])"
      ],
      "metadata": {
        "id": "nJWG9eZDLFd-"
      },
      "execution_count": null,
      "outputs": []
    },
    {
      "cell_type": "code",
      "source": [
        "print(\"FN Rate for Priviliged sex class\", fn_rate_priv)\n",
        "print(\"FN Rate for Unpriviliged sex class\", fn_rate_unpriv)"
      ],
      "metadata": {
        "colab": {
          "base_uri": "https://localhost:8080/"
        },
        "outputId": "14fe9bba-0746-4831-d948-faaf421be128",
        "id": "V8bFIb96LFd-"
      },
      "execution_count": null,
      "outputs": [
        {
          "output_type": "stream",
          "name": "stdout",
          "text": [
            "FN Rate for Priviliged sex class 0.45614035087719296\n",
            "FN Rate for Unpriviliged sex class 0.4857142857142857\n"
          ]
        }
      ]
    },
    {
      "cell_type": "code",
      "source": [
        "print('accuracy', metric_classified_test.accuracy())\n"
      ],
      "metadata": {
        "colab": {
          "base_uri": "https://localhost:8080/"
        },
        "id": "_n17LkEe6xfc",
        "outputId": "2a460091-dc8b-4979-e986-c4f990e9a2e7"
      },
      "execution_count": null,
      "outputs": [
        {
          "output_type": "stream",
          "name": "stdout",
          "text": [
            "accuracy 0.77\n"
          ]
        }
      ]
    },
    {
      "cell_type": "markdown",
      "source": [
        "**We observe that the False Negative Rate is more in Unprivileged (Female) class where as False Positive Rate is more in Privileged class**\n",
        "\n",
        "\n"
      ],
      "metadata": {
        "id": "QAi32PdMLFd-"
      }
    },
    {
      "cell_type": "markdown",
      "source": [
        "# Task 3\n",
        "\n"
      ],
      "metadata": {
        "id": "GMbHtvw3Kq9y"
      }
    },
    {
      "cell_type": "markdown",
      "source": [
        "### Improve Model Fairness on Protect Attribute - Sex"
      ],
      "metadata": {
        "id": "76HnjgpPux1N"
      }
    },
    {
      "cell_type": "markdown",
      "source": [
        "#### Improve Group Fairness and Separation"
      ],
      "metadata": {
        "id": "vb6bJuBouf3g"
      }
    },
    {
      "cell_type": "code",
      "source": [
        "standard_dataset_train_sex = StandardDataset(data_train, protected_attribute_names=['sex=male'],\n",
        "                                        label_name='credit', favorable_classes=[1], privileged_classes=[[1.0]])"
      ],
      "metadata": {
        "id": "UXGmPZh8j_ad"
      },
      "execution_count": null,
      "outputs": []
    },
    {
      "cell_type": "code",
      "source": [
        "standard_dataset_train_pred_sex = StandardDataset(data_train_pred, protected_attribute_names=['sex=male'],\n",
        "                                        label_name='credit', favorable_classes=[1], privileged_classes=[[1.0]])"
      ],
      "metadata": {
        "id": "3fUY-rlIkCos"
      },
      "execution_count": null,
      "outputs": []
    },
    {
      "cell_type": "code",
      "source": [
        "privileged_groups = [{'sex=male': 1}]\n",
        "unprivileged_groups = [{'sex=male': 0}]"
      ],
      "metadata": {
        "id": "yZqPfOb7c-ju"
      },
      "execution_count": null,
      "outputs": []
    },
    {
      "cell_type": "code",
      "source": [
        "cost_constraint = 'fpr'"
      ],
      "metadata": {
        "id": "Gv94gKP4dlUX"
      },
      "execution_count": null,
      "outputs": []
    },
    {
      "cell_type": "code",
      "source": [
        "cpp = CalibratedEqOddsPostprocessing(privileged_groups = privileged_groups,\n",
        "                                     unprivileged_groups = unprivileged_groups,\n",
        "                                     cost_constraint=cost_constraint,\n",
        "                                     seed=12345679 )"
      ],
      "metadata": {
        "id": "AWAtHnSmKxCJ"
      },
      "execution_count": null,
      "outputs": []
    },
    {
      "cell_type": "code",
      "source": [
        "cpp_1 = cpp.fit(standard_dataset_train_sex, standard_dataset_train_pred_sex)"
      ],
      "metadata": {
        "id": "ZTfAc8_qdp-A"
      },
      "execution_count": null,
      "outputs": []
    },
    {
      "cell_type": "code",
      "source": [
        "cpp_test_pred = cpp_1.predict(standard_dataset_test_pred_sex, threshold=0.5)"
      ],
      "metadata": {
        "id": "7goHSJ95fN5I"
      },
      "execution_count": null,
      "outputs": []
    },
    {
      "cell_type": "code",
      "source": [
        "metric_classified_test = ClassificationMetric(standard_dataset_test_sex, cpp_test_pred, \n",
        "                                             unprivileged_groups=unprivileged_groups,\n",
        "                                             privileged_groups=privileged_groups)"
      ],
      "metadata": {
        "id": "N-LWP5wUd7yZ"
      },
      "execution_count": null,
      "outputs": []
    },
    {
      "cell_type": "markdown",
      "source": [
        "#### Fairness Metric"
      ],
      "metadata": {
        "id": "Uh0wv9ACegDF"
      }
    },
    {
      "cell_type": "code",
      "source": [
        "print(\"Difference in mean outcomes between unprivileged and privileged groups = %f\" % metric_classified_test.mean_difference())\n"
      ],
      "metadata": {
        "colab": {
          "base_uri": "https://localhost:8080/"
        },
        "outputId": "e7326e53-c344-4ba8-b074-44717076d1f6",
        "id": "pkmeGGDtegDF"
      },
      "execution_count": null,
      "outputs": [
        {
          "output_type": "stream",
          "name": "stdout",
          "text": [
            "Difference in mean outcomes between unprivileged and privileged groups = 0.057889\n"
          ]
        }
      ]
    },
    {
      "cell_type": "markdown",
      "source": [
        "#### Calculate group fairness by measuring disparate impact ratio\n"
      ],
      "metadata": {
        "id": "HIQ2s2mmhRhy"
      }
    },
    {
      "cell_type": "markdown",
      "source": [
        "The calculation is the proportion of the unprivileged group that received the positive outcome divided by the proportion of the privileged group that received the positive outcome."
      ],
      "metadata": {
        "id": "7LFdhoAkhRhy"
      }
    },
    {
      "cell_type": "code",
      "source": [
        "print('disparate impact', metric_classified_test.disparate_impact())"
      ],
      "metadata": {
        "colab": {
          "base_uri": "https://localhost:8080/"
        },
        "outputId": "44dc8b87-25de-4e7d-dd59-eac06071ba2f",
        "id": "6McHb5DlhRhy"
      },
      "execution_count": null,
      "outputs": [
        {
          "output_type": "stream",
          "name": "stdout",
          "text": [
            "disparate impact 1.0872781065088757\n"
          ]
        }
      ]
    },
    {
      "cell_type": "code",
      "source": [
        "print('accuracy', metric_classified_test.accuracy())"
      ],
      "metadata": {
        "colab": {
          "base_uri": "https://localhost:8080/"
        },
        "id": "moBt3yBp6kxV",
        "outputId": "66a9acc8-4d05-44e9-880e-137efeb18be1"
      },
      "execution_count": null,
      "outputs": [
        {
          "output_type": "stream",
          "name": "stdout",
          "text": [
            "accuracy 0.7433333333333333\n"
          ]
        }
      ]
    },
    {
      "cell_type": "markdown",
      "source": [
        "The disparate impact ratio is near 1, hence showing improvement."
      ],
      "metadata": {
        "id": "WExNMXeXtccM"
      }
    },
    {
      "cell_type": "markdown",
      "source": [
        "#### Calculate Separation"
      ],
      "metadata": {
        "id": "5gBmxLz6hXda"
      }
    },
    {
      "cell_type": "code",
      "source": [
        "eq = EqOddsPostprocessing(privileged_groups = privileged_groups,\n",
        "                                     unprivileged_groups = unprivileged_groups,\n",
        "                                     seed=12345679)"
      ],
      "metadata": {
        "id": "DScIFM7M8fRB"
      },
      "execution_count": null,
      "outputs": []
    },
    {
      "cell_type": "code",
      "source": [
        "eq_1 = eq.fit(standard_dataset_train_sex, standard_dataset_train_pred_sex)"
      ],
      "metadata": {
        "colab": {
          "base_uri": "https://localhost:8080/"
        },
        "id": "qNlF-Xzf8fHJ",
        "outputId": "b9f15ce0-ff48-43d8-bb97-974f56f1f97a"
      },
      "execution_count": null,
      "outputs": [
        {
          "output_type": "stream",
          "name": "stderr",
          "text": [
            "Creating an ndarray from ragged nested sequences (which is a list-or-tuple of lists-or-tuples-or ndarrays with different lengths or shapes) is deprecated. If you meant to do this, you must specify 'dtype=object' when creating the ndarray.\n"
          ]
        }
      ]
    },
    {
      "cell_type": "code",
      "source": [
        "eq_test_pred = eq_1.predict(standard_dataset_test_pred_sex)"
      ],
      "metadata": {
        "id": "wO-B_8kB8e1c"
      },
      "execution_count": null,
      "outputs": []
    },
    {
      "cell_type": "code",
      "source": [
        "metric_classified_test = ClassificationMetric(standard_dataset_test_sex, eq_test_pred, \n",
        "                                             unprivileged_groups=unprivileged_groups,\n",
        "                                             privileged_groups=privileged_groups)"
      ],
      "metadata": {
        "id": "Lhdz3sZA8-6o"
      },
      "execution_count": null,
      "outputs": []
    },
    {
      "cell_type": "markdown",
      "source": [
        "Binary Confusion Matrix for unprivileged class i.e, female"
      ],
      "metadata": {
        "id": "mxgRClDEhXdb"
      }
    },
    {
      "cell_type": "code",
      "source": [
        "unprivileged_dict = metric_classified_test.binary_confusion_matrix(privileged=False)"
      ],
      "metadata": {
        "id": "dUgTpgEdhXdb"
      },
      "execution_count": null,
      "outputs": []
    },
    {
      "cell_type": "markdown",
      "source": [
        "Binary Confusion Matrix for privileged class i.e, male"
      ],
      "metadata": {
        "id": "eD07_vQahXdb"
      }
    },
    {
      "cell_type": "code",
      "source": [
        "privileged_dict = metric_classified_test.binary_confusion_matrix(privileged=True)"
      ],
      "metadata": {
        "id": "ICtvtG39hXdb"
      },
      "execution_count": null,
      "outputs": []
    },
    {
      "cell_type": "code",
      "source": [
        "fp_rate_priv = privileged_dict[\"FP\"]/(privileged_dict[\"FP\"]+privileged_dict[\"TN\"])\n",
        "fp_rate_unpriv = unprivileged_dict[\"FP\"]/(unprivileged_dict[\"FP\"]+unprivileged_dict[\"TN\"])"
      ],
      "metadata": {
        "id": "JMC-O6J6hXdb"
      },
      "execution_count": null,
      "outputs": []
    },
    {
      "cell_type": "code",
      "source": [
        "print(\"FP Rate for Priviliged sex class\", fp_rate_priv)\n",
        "print(\"FP Rate for Unpriviliged sex class\", fp_rate_unpriv)"
      ],
      "metadata": {
        "colab": {
          "base_uri": "https://localhost:8080/"
        },
        "outputId": "d9c1b3c0-56a6-4026-99e3-cad344e1bec2",
        "id": "d7kXPwjkhXdb"
      },
      "execution_count": null,
      "outputs": [
        {
          "output_type": "stream",
          "name": "stdout",
          "text": [
            "FP Rate for Priviliged sex class 0.2982456140350877\n",
            "FP Rate for Unpriviliged sex class 0.2857142857142857\n"
          ]
        }
      ]
    },
    {
      "cell_type": "code",
      "source": [
        "fn_rate_priv = privileged_dict[\"FN\"]/(privileged_dict[\"FP\"]+privileged_dict[\"TN\"])\n",
        "fn_rate_unpriv = unprivileged_dict[\"FN\"]/(unprivileged_dict[\"FP\"]+unprivileged_dict[\"TN\"])"
      ],
      "metadata": {
        "id": "T0Ec_YaThXdb"
      },
      "execution_count": null,
      "outputs": []
    },
    {
      "cell_type": "code",
      "source": [
        "print(\"FN Rate for Priviliged sex class\", fn_rate_priv)\n",
        "print(\"FN Rate for Unpriviliged sex class\", fn_rate_unpriv)"
      ],
      "metadata": {
        "colab": {
          "base_uri": "https://localhost:8080/"
        },
        "outputId": "ce163216-a392-44ec-f161-8c12fd01e5a8",
        "id": "z6aIHyF9hXdb"
      },
      "execution_count": null,
      "outputs": [
        {
          "output_type": "stream",
          "name": "stdout",
          "text": [
            "FN Rate for Priviliged sex class 0.5263157894736842\n",
            "FN Rate for Unpriviliged sex class 0.37142857142857144\n"
          ]
        }
      ]
    },
    {
      "cell_type": "code",
      "source": [
        "print('accuracy', metric_classified_test.accuracy())"
      ],
      "metadata": {
        "colab": {
          "base_uri": "https://localhost:8080/"
        },
        "id": "h8Q_kM7T7E92",
        "outputId": "0fdcc517-6941-41d6-987e-87e8396db70b"
      },
      "execution_count": null,
      "outputs": [
        {
          "output_type": "stream",
          "name": "stdout",
          "text": [
            "accuracy 0.7666666666666667\n"
          ]
        }
      ]
    },
    {
      "cell_type": "markdown",
      "source": [
        "**We observe that the False Negative Rate is almost same for both Unprivileged (Female) class and Privileged class (Male)**\n",
        "\n",
        "\n"
      ],
      "metadata": {
        "id": "nIdG1-fbhXdb"
      }
    },
    {
      "cell_type": "markdown",
      "source": [
        "**We observe that the False Positive Rate is more for both Unprivileged (Female) class compared to Privileged class (Male)**"
      ],
      "metadata": {
        "id": "-yxDABAztNff"
      }
    },
    {
      "cell_type": "markdown",
      "source": [
        "#### Improve Anti classification score - consistency"
      ],
      "metadata": {
        "id": "2Qdo3_bUvBSQ"
      }
    },
    {
      "cell_type": "code",
      "source": [
        "drop_data_test = data_test.drop('sex=male', 1)\n",
        "drop_data_test_pred = data_test_pred.drop('sex=male', 1)"
      ],
      "metadata": {
        "colab": {
          "base_uri": "https://localhost:8080/"
        },
        "id": "qC-P95mYvYwJ",
        "outputId": "afdd3bc5-85ca-408d-d1ec-f79e3566cf65"
      },
      "execution_count": null,
      "outputs": [
        {
          "output_type": "stream",
          "name": "stderr",
          "text": [
            "In a future version of pandas all arguments of DataFrame.drop except for the argument 'labels' will be keyword-only\n",
            "In a future version of pandas all arguments of DataFrame.drop except for the argument 'labels' will be keyword-only\n"
          ]
        }
      ]
    },
    {
      "cell_type": "code",
      "source": [
        "standard_dataset_test_sex = StandardDataset(drop_data_test, protected_attribute_names=[], privileged_classes=[],\n",
        "                                        label_name='credit', favorable_classes=[1])"
      ],
      "metadata": {
        "id": "Oa8vk9nyvU11"
      },
      "execution_count": null,
      "outputs": []
    },
    {
      "cell_type": "code",
      "source": [
        "standard_dataset_test_pred_sex = StandardDataset(drop_data_test_pred, protected_attribute_names=[],\n",
        "                                        label_name='credit', favorable_classes=[1], privileged_classes=[])"
      ],
      "metadata": {
        "id": "fqqLXUAqvUsU"
      },
      "execution_count": null,
      "outputs": []
    },
    {
      "cell_type": "code",
      "source": [
        "metric_classified_test = ClassificationMetric(standard_dataset_test_sex, standard_dataset_test_pred_sex, \n",
        "                                             unprivileged_groups=[],\n",
        "                                             privileged_groups=[])"
      ],
      "metadata": {
        "id": "sHrX1AsQt29q"
      },
      "execution_count": null,
      "outputs": []
    },
    {
      "cell_type": "code",
      "source": [
        "print('consistency', metric_classified_test.consistency()[0])"
      ],
      "metadata": {
        "colab": {
          "base_uri": "https://localhost:8080/"
        },
        "id": "SUx84qpCt2y3",
        "outputId": "00c03fdd-2e59-44e8-8b67-8818783bacc9"
      },
      "execution_count": null,
      "outputs": [
        {
          "output_type": "stream",
          "name": "stdout",
          "text": [
            "consistency 0.6719999999999995\n"
          ]
        }
      ]
    },
    {
      "cell_type": "code",
      "source": [
        "print('accuracy', metric_classified_test.accuracy())\n"
      ],
      "metadata": {
        "colab": {
          "base_uri": "https://localhost:8080/"
        },
        "id": "FAJhwlfGt2nl",
        "outputId": "b75be99b-4413-4c50-914f-2a7996edc3b6"
      },
      "execution_count": null,
      "outputs": [
        {
          "output_type": "stream",
          "name": "stdout",
          "text": [
            "accuracy 0.77\n"
          ]
        }
      ]
    },
    {
      "cell_type": "code",
      "source": [
        ""
      ],
      "metadata": {
        "id": "-_vBSVGc1brL"
      },
      "execution_count": null,
      "outputs": []
    }
  ]
}